{
 "cells": [
  {
   "cell_type": "code",
   "execution_count": 5,
   "metadata": {},
   "outputs": [
    {
     "name": "stdout",
     "output_type": "stream",
     "text": [
      "Welcom to the calculator\n",
      "Select an operation -\n",
      " 1. Add\n",
      " 2. Subtract\n",
      " 3. Multiply\n",
      " 4. Divide\n",
      " 5. Exit\n",
      " \n",
      "Result =  40\n"
     ]
    }
   ],
   "source": [
    "print(\"Welcom to the calculator\")\n",
    "\n",
    "print(\"Select an operation -\\n 1. Add\\n 2. Subtract\\n 3. Multiply\\n 4. Divide\\n 5. Exit\\n \")\n",
    "choice=int(input(\"Enter choice(1/2/3/4/5): \"))\n",
    "a = int(input(\"Enter 1st number: \"))\n",
    "b = int(input(\"Enter 2nd number: \"))\n",
    "if choice == 1:\n",
    "    print(\"Result = \", a + b)\n",
    "elif choice == 2:\n",
    "    print(\"Result = \", a - b)\n",
    "elif choice == 3:\n",
    "    print(\"Result = \", a * b)\n",
    "elif choice == 4:\n",
    "    print(\"Result = \", a / b)\n",
    "elif choice == 5:\n",
    "    print(\"Exiting the program\")\n",
    "else:\n",
    "    print(\"Invalid input\")\n",
    "\n"
   ]
  },
  {
   "cell_type": "code",
   "execution_count": null,
   "metadata": {},
   "outputs": [],
   "source": []
  }
 ],
 "metadata": {
  "kernelspec": {
   "display_name": "env",
   "language": "python",
   "name": "python3"
  },
  "language_info": {
   "codemirror_mode": {
    "name": "ipython",
    "version": 3
   },
   "file_extension": ".py",
   "mimetype": "text/x-python",
   "name": "python",
   "nbconvert_exporter": "python",
   "pygments_lexer": "ipython3",
   "version": "3.12.6"
  }
 },
 "nbformat": 4,
 "nbformat_minor": 2
}
